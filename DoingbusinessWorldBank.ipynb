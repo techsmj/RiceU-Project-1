{
 "cells": [
  {
   "cell_type": "code",
   "execution_count": 973,
   "metadata": {},
   "outputs": [],
   "source": [
    "# Dependencies\n",
    "import numpy as np\n",
    "import pandas as pd\n",
    "import matplotlib.pyplot as plt\n",
    "import requests\n",
    "import json\n",
    "from pprint import pprint\n",
    "import gmaps\n",
    "from config import g_key\n",
    "\n",
    "url = \"https://api.worldbank.org/v2/country/all/indicator/IC.BUS.EASE.DFRN.XQ.DB1719?per_page=400&date=2015:2018&format=json\""
   ]
  },
  {
   "cell_type": "code",
   "execution_count": 974,
   "metadata": {},
   "outputs": [
    {
     "name": "stdout",
     "output_type": "stream",
     "text": [
      "Beijing\n"
     ]
    }
   ],
   "source": [
    "response = requests.get(url)\n",
    "raw_data = response.json()\n",
    "countries = raw_data[1][0]['country']['value']\n",
    "print(countries)"
   ]
  },
  {
   "cell_type": "code",
   "execution_count": 975,
   "metadata": {},
   "outputs": [
    {
     "data": {
      "text/plain": [
       "400"
      ]
     },
     "execution_count": 975,
     "metadata": {},
     "output_type": "execute_result"
    }
   ],
   "source": [
    "len(raw_data[1])"
   ]
  },
  {
   "cell_type": "code",
   "execution_count": 976,
   "metadata": {},
   "outputs": [],
   "source": [
    "# Report the names\n",
    "countries = []\n",
    "doingbusiness_score =[]\n",
    "countrycode = []\n",
    "\n",
    "\n",
    "for i in range(len(raw_data[1])):\n",
    "    countries.append(raw_data[1][i]['country']['value'])\n",
    "    doingbusiness_score.append(raw_data[1][i]['value'])\n",
    "    countrycode.append(raw_data[1][i]['country']['id'])"
   ]
  },
  {
   "cell_type": "code",
   "execution_count": 977,
   "metadata": {},
   "outputs": [
    {
     "data": {
      "text/plain": [
       "2"
      ]
     },
     "execution_count": 977,
     "metadata": {},
     "output_type": "execute_result"
    }
   ],
   "source": [
    "len(raw_data)"
   ]
  },
  {
   "cell_type": "code",
   "execution_count": 978,
   "metadata": {},
   "outputs": [],
   "source": [
    "df = pd.DataFrame(raw_data[1])"
   ]
  },
  {
   "cell_type": "code",
   "execution_count": 979,
   "metadata": {},
   "outputs": [
    {
     "data": {
      "text/plain": [
       "Index(['country', 'countryiso3code', 'date', 'decimal', 'indicator',\n",
       "       'obs_status', 'unit', 'value'],\n",
       "      dtype='object')"
      ]
     },
     "execution_count": 979,
     "metadata": {},
     "output_type": "execute_result"
    }
   ],
   "source": [
    "df.columns"
   ]
  },
  {
   "cell_type": "code",
   "execution_count": 980,
   "metadata": {},
   "outputs": [
    {
     "data": {
      "text/html": [
       "<div>\n",
       "<style scoped>\n",
       "    .dataframe tbody tr th:only-of-type {\n",
       "        vertical-align: middle;\n",
       "    }\n",
       "\n",
       "    .dataframe tbody tr th {\n",
       "        vertical-align: top;\n",
       "    }\n",
       "\n",
       "    .dataframe thead th {\n",
       "        text-align: right;\n",
       "    }\n",
       "</style>\n",
       "<table border=\"1\" class=\"dataframe\">\n",
       "  <thead>\n",
       "    <tr style=\"text-align: right;\">\n",
       "      <th></th>\n",
       "      <th>country</th>\n",
       "      <th>countryiso3code</th>\n",
       "      <th>date</th>\n",
       "      <th>decimal</th>\n",
       "      <th>indicator</th>\n",
       "      <th>obs_status</th>\n",
       "      <th>unit</th>\n",
       "      <th>value</th>\n",
       "    </tr>\n",
       "  </thead>\n",
       "  <tbody>\n",
       "    <tr>\n",
       "      <th>0</th>\n",
       "      <td>{'id': 'CN-BJ', 'value': 'Beijing'}</td>\n",
       "      <td></td>\n",
       "      <td>2018</td>\n",
       "      <td>1</td>\n",
       "      <td>{'id': 'IC.BUS.EASE.DFRN.XQ.DB1719', 'value': ...</td>\n",
       "      <td></td>\n",
       "      <td></td>\n",
       "      <td>64.99</td>\n",
       "    </tr>\n",
       "    <tr>\n",
       "      <th>1</th>\n",
       "      <td>{'id': 'CN-BJ', 'value': 'Beijing'}</td>\n",
       "      <td></td>\n",
       "      <td>2017</td>\n",
       "      <td>1</td>\n",
       "      <td>{'id': 'IC.BUS.EASE.DFRN.XQ.DB1719', 'value': ...</td>\n",
       "      <td></td>\n",
       "      <td></td>\n",
       "      <td>64.53</td>\n",
       "    </tr>\n",
       "    <tr>\n",
       "      <th>2</th>\n",
       "      <td>{'id': 'CN-BJ', 'value': 'Beijing'}</td>\n",
       "      <td></td>\n",
       "      <td>2016</td>\n",
       "      <td>1</td>\n",
       "      <td>{'id': 'IC.BUS.EASE.DFRN.XQ.DB1719', 'value': ...</td>\n",
       "      <td></td>\n",
       "      <td></td>\n",
       "      <td>62.87</td>\n",
       "    </tr>\n",
       "    <tr>\n",
       "      <th>3</th>\n",
       "      <td>{'id': 'CN-BJ', 'value': 'Beijing'}</td>\n",
       "      <td></td>\n",
       "      <td>2015</td>\n",
       "      <td>1</td>\n",
       "      <td>{'id': 'IC.BUS.EASE.DFRN.XQ.DB1719', 'value': ...</td>\n",
       "      <td></td>\n",
       "      <td></td>\n",
       "      <td>NaN</td>\n",
       "    </tr>\n",
       "    <tr>\n",
       "      <th>4</th>\n",
       "      <td>{'id': 'BD-CG', 'value': 'Chittagong'}</td>\n",
       "      <td></td>\n",
       "      <td>2018</td>\n",
       "      <td>1</td>\n",
       "      <td>{'id': 'IC.BUS.EASE.DFRN.XQ.DB1719', 'value': ...</td>\n",
       "      <td></td>\n",
       "      <td></td>\n",
       "      <td>41.77</td>\n",
       "    </tr>\n",
       "  </tbody>\n",
       "</table>\n",
       "</div>"
      ],
      "text/plain": [
       "                                  country countryiso3code  date  decimal  \\\n",
       "0     {'id': 'CN-BJ', 'value': 'Beijing'}                  2018        1   \n",
       "1     {'id': 'CN-BJ', 'value': 'Beijing'}                  2017        1   \n",
       "2     {'id': 'CN-BJ', 'value': 'Beijing'}                  2016        1   \n",
       "3     {'id': 'CN-BJ', 'value': 'Beijing'}                  2015        1   \n",
       "4  {'id': 'BD-CG', 'value': 'Chittagong'}                  2018        1   \n",
       "\n",
       "                                           indicator obs_status unit  value  \n",
       "0  {'id': 'IC.BUS.EASE.DFRN.XQ.DB1719', 'value': ...                  64.99  \n",
       "1  {'id': 'IC.BUS.EASE.DFRN.XQ.DB1719', 'value': ...                  64.53  \n",
       "2  {'id': 'IC.BUS.EASE.DFRN.XQ.DB1719', 'value': ...                  62.87  \n",
       "3  {'id': 'IC.BUS.EASE.DFRN.XQ.DB1719', 'value': ...                    NaN  \n",
       "4  {'id': 'IC.BUS.EASE.DFRN.XQ.DB1719', 'value': ...                  41.77  "
      ]
     },
     "execution_count": 980,
     "metadata": {},
     "output_type": "execute_result"
    }
   ],
   "source": [
    "df.head()"
   ]
  },
  {
   "cell_type": "code",
   "execution_count": 981,
   "metadata": {},
   "outputs": [],
   "source": [
    "df1 = pd.DataFrame({'Cities/Countries':countries,'CountryCode':countrycode,'AvgScore':doingbusiness_score})"
   ]
  },
  {
   "cell_type": "code",
   "execution_count": 982,
   "metadata": {},
   "outputs": [
    {
     "data": {
      "text/html": [
       "<div>\n",
       "<style scoped>\n",
       "    .dataframe tbody tr th:only-of-type {\n",
       "        vertical-align: middle;\n",
       "    }\n",
       "\n",
       "    .dataframe tbody tr th {\n",
       "        vertical-align: top;\n",
       "    }\n",
       "\n",
       "    .dataframe thead th {\n",
       "        text-align: right;\n",
       "    }\n",
       "</style>\n",
       "<table border=\"1\" class=\"dataframe\">\n",
       "  <thead>\n",
       "    <tr style=\"text-align: right;\">\n",
       "      <th></th>\n",
       "      <th>Cities/Countries</th>\n",
       "      <th>CountryCode</th>\n",
       "      <th>AvgScore</th>\n",
       "    </tr>\n",
       "  </thead>\n",
       "  <tbody>\n",
       "    <tr>\n",
       "      <th>0</th>\n",
       "      <td>Beijing</td>\n",
       "      <td>CN-BJ</td>\n",
       "      <td>64.99</td>\n",
       "    </tr>\n",
       "    <tr>\n",
       "      <th>1</th>\n",
       "      <td>Beijing</td>\n",
       "      <td>CN-BJ</td>\n",
       "      <td>64.53</td>\n",
       "    </tr>\n",
       "    <tr>\n",
       "      <th>2</th>\n",
       "      <td>Beijing</td>\n",
       "      <td>CN-BJ</td>\n",
       "      <td>62.87</td>\n",
       "    </tr>\n",
       "    <tr>\n",
       "      <th>3</th>\n",
       "      <td>Beijing</td>\n",
       "      <td>CN-BJ</td>\n",
       "      <td>NaN</td>\n",
       "    </tr>\n",
       "    <tr>\n",
       "      <th>4</th>\n",
       "      <td>Chittagong</td>\n",
       "      <td>BD-CG</td>\n",
       "      <td>41.77</td>\n",
       "    </tr>\n",
       "  </tbody>\n",
       "</table>\n",
       "</div>"
      ],
      "text/plain": [
       "  Cities/Countries CountryCode  AvgScore\n",
       "0          Beijing       CN-BJ     64.99\n",
       "1          Beijing       CN-BJ     64.53\n",
       "2          Beijing       CN-BJ     62.87\n",
       "3          Beijing       CN-BJ       NaN\n",
       "4       Chittagong       BD-CG     41.77"
      ]
     },
     "execution_count": 982,
     "metadata": {},
     "output_type": "execute_result"
    }
   ],
   "source": [
    "df1.head()"
   ]
  },
  {
   "cell_type": "code",
   "execution_count": 983,
   "metadata": {},
   "outputs": [],
   "source": [
    "df2 = df1.groupby('Cities/Countries')['AvgScore'].mean()"
   ]
  },
  {
   "cell_type": "code",
   "execution_count": 984,
   "metadata": {},
   "outputs": [
    {
     "data": {
      "text/plain": [
       "Cities/Countries\n",
       "Afghanistan               38.443333\n",
       "Albania                   65.560000\n",
       "Algeria                   46.983333\n",
       "Angola                    40.743333\n",
       "Antigua and Barbuda       58.906667\n",
       "Argentina                 57.656667\n",
       "Armenia                   72.233333\n",
       "Australia                 80.193333\n",
       "Austria                   78.626667\n",
       "Azerbaijan                69.093333\n",
       "Bahamas, The              57.070000\n",
       "Bahrain                   67.330000\n",
       "Bangladesh                40.663333\n",
       "Barbados                  56.810000\n",
       "Beijing                   64.130000\n",
       "Belarus                   73.150000\n",
       "Belgium                   71.866667\n",
       "Belize                    57.090000\n",
       "Benin                     49.713333\n",
       "Bhutan                    65.340000\n",
       "Bolivia                   49.953333\n",
       "Bosnia and Herzegovina    63.003333\n",
       "Botswana                  64.840000\n",
       "Brazil                    56.820000\n",
       "Brunei Darussalam         64.523333\n",
       "Name: AvgScore, dtype: float64"
      ]
     },
     "execution_count": 984,
     "metadata": {},
     "output_type": "execute_result"
    }
   ],
   "source": [
    "df2.head(25)"
   ]
  },
  {
   "cell_type": "code",
   "execution_count": 985,
   "metadata": {},
   "outputs": [],
   "source": [
    "df3 = pd.DataFrame(df2)"
   ]
  },
  {
   "cell_type": "code",
   "execution_count": 986,
   "metadata": {},
   "outputs": [
    {
     "data": {
      "text/html": [
       "<div>\n",
       "<style scoped>\n",
       "    .dataframe tbody tr th:only-of-type {\n",
       "        vertical-align: middle;\n",
       "    }\n",
       "\n",
       "    .dataframe tbody tr th {\n",
       "        vertical-align: top;\n",
       "    }\n",
       "\n",
       "    .dataframe thead th {\n",
       "        text-align: right;\n",
       "    }\n",
       "</style>\n",
       "<table border=\"1\" class=\"dataframe\">\n",
       "  <thead>\n",
       "    <tr style=\"text-align: right;\">\n",
       "      <th></th>\n",
       "      <th>AvgScore</th>\n",
       "    </tr>\n",
       "    <tr>\n",
       "      <th>Cities/Countries</th>\n",
       "      <th></th>\n",
       "    </tr>\n",
       "  </thead>\n",
       "  <tbody>\n",
       "    <tr>\n",
       "      <th>Afghanistan</th>\n",
       "      <td>38.443333</td>\n",
       "    </tr>\n",
       "    <tr>\n",
       "      <th>Albania</th>\n",
       "      <td>65.560000</td>\n",
       "    </tr>\n",
       "    <tr>\n",
       "      <th>Algeria</th>\n",
       "      <td>46.983333</td>\n",
       "    </tr>\n",
       "    <tr>\n",
       "      <th>Angola</th>\n",
       "      <td>40.743333</td>\n",
       "    </tr>\n",
       "    <tr>\n",
       "      <th>Antigua and Barbuda</th>\n",
       "      <td>58.906667</td>\n",
       "    </tr>\n",
       "  </tbody>\n",
       "</table>\n",
       "</div>"
      ],
      "text/plain": [
       "                      AvgScore\n",
       "Cities/Countries              \n",
       "Afghanistan          38.443333\n",
       "Albania              65.560000\n",
       "Algeria              46.983333\n",
       "Angola               40.743333\n",
       "Antigua and Barbuda  58.906667"
      ]
     },
     "execution_count": 986,
     "metadata": {},
     "output_type": "execute_result"
    }
   ],
   "source": [
    "df3.head()"
   ]
  },
  {
   "cell_type": "code",
   "execution_count": 987,
   "metadata": {},
   "outputs": [],
   "source": [
    "df4 = df3.sort_values(by='AvgScore', ascending=True)"
   ]
  },
  {
   "cell_type": "code",
   "execution_count": 988,
   "metadata": {},
   "outputs": [],
   "source": [
    "df5 = df4.drop(df4[df4.AvgScore > 50.74].index)"
   ]
  },
  {
   "cell_type": "code",
   "execution_count": 989,
   "metadata": {},
   "outputs": [
    {
     "data": {
      "text/html": [
       "<div>\n",
       "<style scoped>\n",
       "    .dataframe tbody tr th:only-of-type {\n",
       "        vertical-align: middle;\n",
       "    }\n",
       "\n",
       "    .dataframe tbody tr th {\n",
       "        vertical-align: top;\n",
       "    }\n",
       "\n",
       "    .dataframe thead th {\n",
       "        text-align: right;\n",
       "    }\n",
       "</style>\n",
       "<table border=\"1\" class=\"dataframe\">\n",
       "  <thead>\n",
       "    <tr style=\"text-align: right;\">\n",
       "      <th></th>\n",
       "      <th>AvgScore</th>\n",
       "    </tr>\n",
       "    <tr>\n",
       "      <th>Cities/Countries</th>\n",
       "      <th></th>\n",
       "    </tr>\n",
       "  </thead>\n",
       "  <tbody>\n",
       "    <tr>\n",
       "      <th>Eritrea</th>\n",
       "      <td>22.646667</td>\n",
       "    </tr>\n",
       "    <tr>\n",
       "      <th>Central African Republic</th>\n",
       "      <td>33.730000</td>\n",
       "    </tr>\n",
       "    <tr>\n",
       "      <th>Congo, Dem. Rep.</th>\n",
       "      <td>36.050000</td>\n",
       "    </tr>\n",
       "    <tr>\n",
       "      <th>Chad</th>\n",
       "      <td>38.193333</td>\n",
       "    </tr>\n",
       "    <tr>\n",
       "      <th>Haiti</th>\n",
       "      <td>38.383333</td>\n",
       "    </tr>\n",
       "    <tr>\n",
       "      <th>Afghanistan</th>\n",
       "      <td>38.443333</td>\n",
       "    </tr>\n",
       "    <tr>\n",
       "      <th>Congo, Rep.</th>\n",
       "      <td>39.960000</td>\n",
       "    </tr>\n",
       "    <tr>\n",
       "      <th>Dhaka</th>\n",
       "      <td>40.410000</td>\n",
       "    </tr>\n",
       "    <tr>\n",
       "      <th>Bangladesh</th>\n",
       "      <td>40.663333</td>\n",
       "    </tr>\n",
       "    <tr>\n",
       "      <th>Angola</th>\n",
       "      <td>40.743333</td>\n",
       "    </tr>\n",
       "    <tr>\n",
       "      <th>Equatorial Guinea</th>\n",
       "      <td>40.993333</td>\n",
       "    </tr>\n",
       "    <tr>\n",
       "      <th>Chittagong</th>\n",
       "      <td>41.543333</td>\n",
       "    </tr>\n",
       "    <tr>\n",
       "      <th>Guinea-Bissau</th>\n",
       "      <td>41.713333</td>\n",
       "    </tr>\n",
       "    <tr>\n",
       "      <th>Cameroon</th>\n",
       "      <td>44.926667</td>\n",
       "    </tr>\n",
       "    <tr>\n",
       "      <th>Gabon</th>\n",
       "      <td>45.270000</td>\n",
       "    </tr>\n",
       "    <tr>\n",
       "      <th>Burundi</th>\n",
       "      <td>46.600000</td>\n",
       "    </tr>\n",
       "    <tr>\n",
       "      <th>Ethiopia</th>\n",
       "      <td>46.663333</td>\n",
       "    </tr>\n",
       "    <tr>\n",
       "      <th>Algeria</th>\n",
       "      <td>46.983333</td>\n",
       "    </tr>\n",
       "    <tr>\n",
       "      <th>Lagos</th>\n",
       "      <td>48.010000</td>\n",
       "    </tr>\n",
       "    <tr>\n",
       "      <th>Comoros</th>\n",
       "      <td>48.160000</td>\n",
       "    </tr>\n",
       "    <tr>\n",
       "      <th>Guinea</th>\n",
       "      <td>48.710000</td>\n",
       "    </tr>\n",
       "    <tr>\n",
       "      <th>Djibouti</th>\n",
       "      <td>49.586667</td>\n",
       "    </tr>\n",
       "    <tr>\n",
       "      <th>Benin</th>\n",
       "      <td>49.713333</td>\n",
       "    </tr>\n",
       "    <tr>\n",
       "      <th>Bolivia</th>\n",
       "      <td>49.953333</td>\n",
       "    </tr>\n",
       "    <tr>\n",
       "      <th>Karachi</th>\n",
       "      <td>50.736667</td>\n",
       "    </tr>\n",
       "  </tbody>\n",
       "</table>\n",
       "</div>"
      ],
      "text/plain": [
       "                           AvgScore\n",
       "Cities/Countries                   \n",
       "Eritrea                   22.646667\n",
       "Central African Republic  33.730000\n",
       "Congo, Dem. Rep.          36.050000\n",
       "Chad                      38.193333\n",
       "Haiti                     38.383333\n",
       "Afghanistan               38.443333\n",
       "Congo, Rep.               39.960000\n",
       "Dhaka                     40.410000\n",
       "Bangladesh                40.663333\n",
       "Angola                    40.743333\n",
       "Equatorial Guinea         40.993333\n",
       "Chittagong                41.543333\n",
       "Guinea-Bissau             41.713333\n",
       "Cameroon                  44.926667\n",
       "Gabon                     45.270000\n",
       "Burundi                   46.600000\n",
       "Ethiopia                  46.663333\n",
       "Algeria                   46.983333\n",
       "Lagos                     48.010000\n",
       "Comoros                   48.160000\n",
       "Guinea                    48.710000\n",
       "Djibouti                  49.586667\n",
       "Benin                     49.713333\n",
       "Bolivia                   49.953333\n",
       "Karachi                   50.736667"
      ]
     },
     "execution_count": 989,
     "metadata": {},
     "output_type": "execute_result"
    }
   ],
   "source": [
    "len(df)\n",
    "df5.head(30)"
   ]
  },
  {
   "cell_type": "code",
   "execution_count": 990,
   "metadata": {},
   "outputs": [
    {
     "data": {
      "text/html": [
       "<div>\n",
       "<style scoped>\n",
       "    .dataframe tbody tr th:only-of-type {\n",
       "        vertical-align: middle;\n",
       "    }\n",
       "\n",
       "    .dataframe tbody tr th {\n",
       "        vertical-align: top;\n",
       "    }\n",
       "\n",
       "    .dataframe thead th {\n",
       "        text-align: right;\n",
       "    }\n",
       "</style>\n",
       "<table border=\"1\" class=\"dataframe\">\n",
       "  <thead>\n",
       "    <tr style=\"text-align: right;\">\n",
       "      <th></th>\n",
       "      <th>AvgScore</th>\n",
       "      <th>Countries</th>\n",
       "    </tr>\n",
       "    <tr>\n",
       "      <th>Cities/Countries</th>\n",
       "      <th></th>\n",
       "      <th></th>\n",
       "    </tr>\n",
       "  </thead>\n",
       "  <tbody>\n",
       "    <tr>\n",
       "      <th>Eritrea</th>\n",
       "      <td>22.646667</td>\n",
       "      <td>Eritrea</td>\n",
       "    </tr>\n",
       "    <tr>\n",
       "      <th>Central African Republic</th>\n",
       "      <td>33.730000</td>\n",
       "      <td>Central African Republic</td>\n",
       "    </tr>\n",
       "    <tr>\n",
       "      <th>Congo, Dem. Rep.</th>\n",
       "      <td>36.050000</td>\n",
       "      <td>Democratic Republic of the Congo</td>\n",
       "    </tr>\n",
       "    <tr>\n",
       "      <th>Chad</th>\n",
       "      <td>38.193333</td>\n",
       "      <td>Chad</td>\n",
       "    </tr>\n",
       "    <tr>\n",
       "      <th>Haiti</th>\n",
       "      <td>38.383333</td>\n",
       "      <td>Haiti</td>\n",
       "    </tr>\n",
       "    <tr>\n",
       "      <th>Afghanistan</th>\n",
       "      <td>38.443333</td>\n",
       "      <td>Afghanistan</td>\n",
       "    </tr>\n",
       "    <tr>\n",
       "      <th>Congo, Rep.</th>\n",
       "      <td>39.960000</td>\n",
       "      <td>Congo, Rep.</td>\n",
       "    </tr>\n",
       "    <tr>\n",
       "      <th>Dhaka</th>\n",
       "      <td>40.410000</td>\n",
       "      <td>Dhaka</td>\n",
       "    </tr>\n",
       "    <tr>\n",
       "      <th>Bangladesh</th>\n",
       "      <td>40.663333</td>\n",
       "      <td>Bangladesh</td>\n",
       "    </tr>\n",
       "    <tr>\n",
       "      <th>Angola</th>\n",
       "      <td>40.743333</td>\n",
       "      <td>Angola</td>\n",
       "    </tr>\n",
       "  </tbody>\n",
       "</table>\n",
       "</div>"
      ],
      "text/plain": [
       "                           AvgScore                         Countries\n",
       "Cities/Countries                                                     \n",
       "Eritrea                   22.646667                           Eritrea\n",
       "Central African Republic  33.730000          Central African Republic\n",
       "Congo, Dem. Rep.          36.050000  Democratic Republic of the Congo\n",
       "Chad                      38.193333                              Chad\n",
       "Haiti                     38.383333                             Haiti\n",
       "Afghanistan               38.443333                       Afghanistan\n",
       "Congo, Rep.               39.960000                       Congo, Rep.\n",
       "Dhaka                     40.410000                             Dhaka\n",
       "Bangladesh                40.663333                        Bangladesh\n",
       "Angola                    40.743333                            Angola"
      ]
     },
     "execution_count": 990,
     "metadata": {},
     "output_type": "execute_result"
    }
   ],
   "source": [
    "df6 = df5.drop(df5[df5.AvgScore > 40.75].index)\n",
    "len(df6)\n",
    "\n",
    "Place = ['Eritrea','Central African Republic','Democratic Republic of the Congo','Chad','Haiti','Afghanistan','Congo, Rep.','Dhaka','Bangladesh','Angola']\n",
    "df6.head(20)\n",
    "df6.assign(Countries=Place)"
   ]
  },
  {
   "cell_type": "code",
   "execution_count": 991,
   "metadata": {},
   "outputs": [],
   "source": [
    "Maplist = df6.index.tolist()"
   ]
  },
  {
   "cell_type": "code",
   "execution_count": 992,
   "metadata": {},
   "outputs": [],
   "source": [
    "lat = []\n",
    "lng = []"
   ]
  },
  {
   "cell_type": "code",
   "execution_count": 993,
   "metadata": {},
   "outputs": [],
   "source": [
    "target_places = []\n",
    "\n",
    "busscore = []\n",
    "for x in Maplist:\n",
    "    target_places.append(x)\n",
    "\n",
    "    \n",
    "target_url1 = ('https://maps.googleapis.com/maps/api/geocode/json?'\n",
    "'address={0}&key={1}').format(target_places[1], g_key)"
   ]
  },
  {
   "cell_type": "code",
   "execution_count": 994,
   "metadata": {},
   "outputs": [
    {
     "name": "stdout",
     "output_type": "stream",
     "text": [
      "{'results': [{'address_components': [{'long_name': 'Central African Republic', 'short_name': 'CF', 'types': ['country', 'political']}], 'formatted_address': 'Central African Republic', 'geometry': {'bounds': {'northeast': {'lat': 11.0179569, 'lng': 27.4583049}, 'southwest': {'lat': 2.2230529, 'lng': 14.4150981}}, 'location': {'lat': 6.611110999999999, 'lng': 20.939444}, 'location_type': 'APPROXIMATE', 'viewport': {'northeast': {'lat': 11.0179569, 'lng': 27.4583049}, 'southwest': {'lat': 2.2230529, 'lng': 14.4150981}}}, 'place_id': 'ChIJt6KGjVPpuBARJIBcWgLGm7g', 'types': ['country', 'political']}], 'status': 'OK'}\n"
     ]
    }
   ],
   "source": [
    "geo_data = requests.get(target_url1).json()\n",
    "\n",
    "\n",
    "print(geo_data)"
   ]
  },
  {
   "cell_type": "code",
   "execution_count": 995,
   "metadata": {},
   "outputs": [
    {
     "name": "stdout",
     "output_type": "stream",
     "text": [
      "{\n",
      "    \"results\": [\n",
      "        {\n",
      "            \"address_components\": [\n",
      "                {\n",
      "                    \"long_name\": \"Central African Republic\",\n",
      "                    \"short_name\": \"CF\",\n",
      "                    \"types\": [\n",
      "                        \"country\",\n",
      "                        \"political\"\n",
      "                    ]\n",
      "                }\n",
      "            ],\n",
      "            \"formatted_address\": \"Central African Republic\",\n",
      "            \"geometry\": {\n",
      "                \"bounds\": {\n",
      "                    \"northeast\": {\n",
      "                        \"lat\": 11.0179569,\n",
      "                        \"lng\": 27.4583049\n",
      "                    },\n",
      "                    \"southwest\": {\n",
      "                        \"lat\": 2.2230529,\n",
      "                        \"lng\": 14.4150981\n",
      "                    }\n",
      "                },\n",
      "                \"location\": {\n",
      "                    \"lat\": 6.611110999999999,\n",
      "                    \"lng\": 20.939444\n",
      "                },\n",
      "                \"location_type\": \"APPROXIMATE\",\n",
      "                \"viewport\": {\n",
      "                    \"northeast\": {\n",
      "                        \"lat\": 11.0179569,\n",
      "                        \"lng\": 27.4583049\n",
      "                    },\n",
      "                    \"southwest\": {\n",
      "                        \"lat\": 2.2230529,\n",
      "                        \"lng\": 14.4150981\n",
      "                    }\n",
      "                }\n",
      "            },\n",
      "            \"place_id\": \"ChIJt6KGjVPpuBARJIBcWgLGm7g\",\n",
      "            \"types\": [\n",
      "                \"country\",\n",
      "                \"political\"\n",
      "            ]\n",
      "        }\n",
      "    ],\n",
      "    \"status\": \"OK\"\n",
      "}\n"
     ]
    }
   ],
   "source": [
    " # Print the json (pretty printed)\n",
    "print(json.dumps(geo_data, indent=4, sort_keys=True))"
   ]
  },
  {
   "cell_type": "code",
   "execution_count": 996,
   "metadata": {},
   "outputs": [
    {
     "name": "stdout",
     "output_type": "stream",
     "text": [
      "\n",
      "   City: ['Eritrea', 'Central African Republic', 'Congo, Dem. Rep.', 'Chad', 'Haiti', 'Afghanistan', 'Congo, Rep.', 'Dhaka', 'Bangladesh', 'Angola']\n",
      "   Latitude: 23.810332\n",
      "   Longitude: 90.4125181\n",
      "   \n"
     ]
    }
   ],
   "source": [
    " # Extract latitude and longitude\n",
    "    \n",
    "latlong_dict = geo_data[\"results\"][0][\"geometry\"][\"location\"]\n",
    "name_dict = geo_data[\"results\"][0][\"formatted_address\"]\n",
    "name.append(name_dict)\n",
    "lat.append(latlong_dict[\"lat\"])\n",
    "lng.append(latlong_dict[\"lng\"])\n",
    "\n",
    "# Print the latitude and longitude\n",
    "print('''\n",
    "    City: {0}\n",
    "    Latitude: {1}\n",
    "    Longitude: {2}\n",
    "    '''.format(target_places, lat2, lng2))\n"
   ]
  },
  {
   "cell_type": "code",
   "execution_count": 997,
   "metadata": {},
   "outputs": [
    {
     "data": {
      "text/plain": [
       "{'lat': 6.611110999999999, 'lng': 20.939444}"
      ]
     },
     "execution_count": 997,
     "metadata": {},
     "output_type": "execute_result"
    }
   ],
   "source": [
    "lat = []\n",
    "lng = []\n",
    "name = []\n",
    "\n",
    "latlong_dict"
   ]
  },
  {
   "cell_type": "code",
   "execution_count": 998,
   "metadata": {},
   "outputs": [
    {
     "data": {
      "text/plain": [
       "['Eritrea',\n",
       " 'Central African Republic',\n",
       " 'Congo, Dem. Rep.',\n",
       " 'Chad',\n",
       " 'Haiti',\n",
       " 'Afghanistan',\n",
       " 'Congo, Rep.',\n",
       " 'Dhaka',\n",
       " 'Bangladesh',\n",
       " 'Angola']"
      ]
     },
     "execution_count": 998,
     "metadata": {},
     "output_type": "execute_result"
    }
   ],
   "source": [
    "target_places"
   ]
  },
  {
   "cell_type": "code",
   "execution_count": 999,
   "metadata": {},
   "outputs": [],
   "source": [
    "target_places = []\n",
    "\n",
    "busscore = []\n",
    "for x in Maplist:\n",
    "    target_places.append(x)\n",
    "    \n",
    "\n",
    "\n",
    "target_url = ('https://maps.googleapis.com/maps/api/geocode/json?'\n",
    "'address={0}&key={1}').format(Maplist, g_key)\n",
    "    \n",
    "\n"
   ]
  },
  {
   "cell_type": "code",
   "execution_count": 1000,
   "metadata": {},
   "outputs": [
    {
     "name": "stdout",
     "output_type": "stream",
     "text": [
      "{'results': [{'address_components': [{'long_name': 'Dhaka', 'short_name': 'Dhaka', 'types': ['locality', 'political']}, {'long_name': 'Dhaka District', 'short_name': 'Dhaka District', 'types': ['administrative_area_level_2', 'political']}, {'long_name': 'Dhaka Division', 'short_name': 'Dhaka Division', 'types': ['administrative_area_level_1', 'political']}, {'long_name': 'Bangladesh', 'short_name': 'BD', 'types': ['country', 'political']}], 'formatted_address': 'Dhaka, Bangladesh', 'geometry': {'bounds': {'northeast': {'lat': 23.9000025, 'lng': 90.5091047}, 'southwest': {'lat': 23.6612704, 'lng': 90.3295468}}, 'location': {'lat': 23.810332, 'lng': 90.4125181}, 'location_type': 'APPROXIMATE', 'viewport': {'northeast': {'lat': 23.9000025, 'lng': 90.5091047}, 'southwest': {'lat': 23.6612704, 'lng': 90.3295468}}}, 'partial_match': True, 'place_id': 'ChIJgWsCh7C4VTcRwgRZ3btjpY8', 'types': ['locality', 'political']}], 'status': 'OK'}\n"
     ]
    }
   ],
   "source": [
    "geo_data = requests.get(target_url).json()\n",
    "\n",
    "# Print the json\n",
    "print(geo_data)"
   ]
  },
  {
   "cell_type": "code",
   "execution_count": 1001,
   "metadata": {},
   "outputs": [
    {
     "data": {
      "text/plain": [
       "23.810332"
      ]
     },
     "execution_count": 1001,
     "metadata": {},
     "output_type": "execute_result"
    }
   ],
   "source": [
    " # Extract latitude and longitude\n",
    "latlong_dict = geo_data[\"results\"][0][\"geometry\"][\"location\"]\n",
    "lat2 = latlong_dict[\"lat\"]\n",
    "lng2 = latlong_dict[\"lng\"]\n",
    "\n",
    "lat2\n"
   ]
  },
  {
   "cell_type": "code",
   "execution_count": 1002,
   "metadata": {},
   "outputs": [
    {
     "data": {
      "text/html": [
       "<div>\n",
       "<style scoped>\n",
       "    .dataframe tbody tr th:only-of-type {\n",
       "        vertical-align: middle;\n",
       "    }\n",
       "\n",
       "    .dataframe tbody tr th {\n",
       "        vertical-align: top;\n",
       "    }\n",
       "\n",
       "    .dataframe thead th {\n",
       "        text-align: right;\n",
       "    }\n",
       "</style>\n",
       "<table border=\"1\" class=\"dataframe\">\n",
       "  <thead>\n",
       "    <tr style=\"text-align: right;\">\n",
       "      <th></th>\n",
       "      <th>results</th>\n",
       "      <th>status</th>\n",
       "    </tr>\n",
       "  </thead>\n",
       "  <tbody>\n",
       "    <tr>\n",
       "      <th>0</th>\n",
       "      <td>{'address_components': [{'long_name': 'Dhaka',...</td>\n",
       "      <td>OK</td>\n",
       "    </tr>\n",
       "  </tbody>\n",
       "</table>\n",
       "</div>"
      ],
      "text/plain": [
       "                                             results status\n",
       "0  {'address_components': [{'long_name': 'Dhaka',...     OK"
      ]
     },
     "execution_count": 1002,
     "metadata": {},
     "output_type": "execute_result"
    }
   ],
   "source": [
    "pd.DataFrame(geo_data)"
   ]
  },
  {
   "cell_type": "code",
   "execution_count": null,
   "metadata": {},
   "outputs": [],
   "source": []
  },
  {
   "cell_type": "code",
   "execution_count": 1003,
   "metadata": {},
   "outputs": [],
   "source": [
    "target_url1 = ('https://maps.googleapis.com/maps/api/geocode/json?'\n",
    "'address={0}&key={1}').format(target_places[0], g_key)\n",
    "geo_data = requests.get(target_url1).json()\n",
    " # Extract latitude and longitude\n",
    "latlong_dict = geo_data[\"results\"][0][\"geometry\"][\"location\"]\n",
    "name_dict = geo_data[\"results\"][0][\"formatted_address\"]\n",
    "name.append(name_dict)\n",
    "lat.append(latlong_dict[\"lat\"])\n",
    "lng.append(latlong_dict[\"lng\"])\n",
    "\n",
    "target_url2 = ('https://maps.googleapis.com/maps/api/geocode/json?'\n",
    "'address={0}&key={1}').format(target_places[1], g_key)\n",
    "geo_data = requests.get(target_url2).json()\n",
    " # Extract latitude and longitude\n",
    "latlong_dict = geo_data[\"results\"][0][\"geometry\"][\"location\"]\n",
    "name_dict = geo_data[\"results\"][0][\"formatted_address\"]\n",
    "name.append(name_dict)\n",
    "lat.append(latlong_dict[\"lat\"])\n",
    "lng.append(latlong_dict[\"lng\"])\n",
    "\n",
    "target_url3 = ('https://maps.googleapis.com/maps/api/geocode/json?'\n",
    "'address={0}&key={1}').format(target_places[5], g_key)\n",
    "geo_data = requests.get(target_url3).json()\n",
    " # Extract latitude and longitude\n",
    "latlong_dict = geo_data[\"results\"][0][\"geometry\"][\"location\"]\n",
    "name_dict = geo_data[\"results\"][0][\"formatted_address\"]\n",
    "name.append(name_dict)\n",
    "lat.append(latlong_dict[\"lat\"])\n",
    "lng.append(latlong_dict[\"lng\"])\n",
    "\n",
    "target_url4 = ('https://maps.googleapis.com/maps/api/geocode/json?'\n",
    "'address={0}&key={1}').format(target_places[3], g_key)\n",
    "geo_data = requests.get(target_url4).json()\n",
    " # Extract latitude and longitude\n",
    "latlong_dict = geo_data[\"results\"][0][\"geometry\"][\"location\"]\n",
    "name_dict = geo_data[\"results\"][0][\"formatted_address\"]\n",
    "name.append(name_dict)\n",
    "lat.append(latlong_dict[\"lat\"])\n",
    "lng.append(latlong_dict[\"lng\"])\n",
    "\n",
    "target_url5 = ('https://maps.googleapis.com/maps/api/geocode/json?'\n",
    "'address={0}&key={1}').format(target_places[4], g_key)\n",
    "geo_data = requests.get(target_url5).json()\n",
    " # Extract latitude and longitude\n",
    "latlong_dict = geo_data[\"results\"][0][\"geometry\"][\"location\"]\n",
    "name_dict = geo_data[\"results\"][0][\"formatted_address\"]\n",
    "name.append(name_dict)\n",
    "lat.append(latlong_dict[\"lat\"])\n",
    "lng.append(latlong_dict[\"lng\"])"
   ]
  },
  {
   "cell_type": "code",
   "execution_count": 1004,
   "metadata": {},
   "outputs": [
    {
     "data": {
      "text/plain": [
       "[15.179384, 6.611110999999999, 33.93911, 15.454166, 18.971187]"
      ]
     },
     "execution_count": 1004,
     "metadata": {},
     "output_type": "execute_result"
    }
   ],
   "source": [
    "lat"
   ]
  },
  {
   "cell_type": "code",
   "execution_count": 1005,
   "metadata": {},
   "outputs": [
    {
     "data": {
      "text/plain": [
       "[39.782334, 20.939444, 67.709953, 18.732207, -72.285215]"
      ]
     },
     "execution_count": 1005,
     "metadata": {},
     "output_type": "execute_result"
    }
   ],
   "source": [
    "lng"
   ]
  },
  {
   "cell_type": "code",
   "execution_count": 1006,
   "metadata": {},
   "outputs": [],
   "source": [
    "weights = []\n",
    "\n",
    "n_df = pd.DataFrame({'Cities/Countries':name,'Lat':lat,'Lng':lng})"
   ]
  },
  {
   "cell_type": "code",
   "execution_count": 1007,
   "metadata": {},
   "outputs": [
    {
     "data": {
      "text/html": [
       "<div>\n",
       "<style scoped>\n",
       "    .dataframe tbody tr th:only-of-type {\n",
       "        vertical-align: middle;\n",
       "    }\n",
       "\n",
       "    .dataframe tbody tr th {\n",
       "        vertical-align: top;\n",
       "    }\n",
       "\n",
       "    .dataframe thead th {\n",
       "        text-align: right;\n",
       "    }\n",
       "</style>\n",
       "<table border=\"1\" class=\"dataframe\">\n",
       "  <thead>\n",
       "    <tr style=\"text-align: right;\">\n",
       "      <th></th>\n",
       "      <th>Cities/Countries</th>\n",
       "      <th>Lat</th>\n",
       "      <th>Lng</th>\n",
       "    </tr>\n",
       "  </thead>\n",
       "  <tbody>\n",
       "    <tr>\n",
       "      <th>0</th>\n",
       "      <td>Eritrea</td>\n",
       "      <td>15.179384</td>\n",
       "      <td>39.782334</td>\n",
       "    </tr>\n",
       "    <tr>\n",
       "      <th>1</th>\n",
       "      <td>Central African Republic</td>\n",
       "      <td>6.611111</td>\n",
       "      <td>20.939444</td>\n",
       "    </tr>\n",
       "    <tr>\n",
       "      <th>2</th>\n",
       "      <td>Afghanistan</td>\n",
       "      <td>33.939110</td>\n",
       "      <td>67.709953</td>\n",
       "    </tr>\n",
       "    <tr>\n",
       "      <th>3</th>\n",
       "      <td>Chad</td>\n",
       "      <td>15.454166</td>\n",
       "      <td>18.732207</td>\n",
       "    </tr>\n",
       "    <tr>\n",
       "      <th>4</th>\n",
       "      <td>Haiti</td>\n",
       "      <td>18.971187</td>\n",
       "      <td>-72.285215</td>\n",
       "    </tr>\n",
       "  </tbody>\n",
       "</table>\n",
       "</div>"
      ],
      "text/plain": [
       "           Cities/Countries        Lat        Lng\n",
       "0                   Eritrea  15.179384  39.782334\n",
       "1  Central African Republic   6.611111  20.939444\n",
       "2               Afghanistan  33.939110  67.709953\n",
       "3                      Chad  15.454166  18.732207\n",
       "4                     Haiti  18.971187 -72.285215"
      ]
     },
     "execution_count": 1007,
     "metadata": {},
     "output_type": "execute_result"
    }
   ],
   "source": [
    "n_df.head()"
   ]
  },
  {
   "cell_type": "code",
   "execution_count": 1008,
   "metadata": {},
   "outputs": [
    {
     "data": {
      "text/html": [
       "<div>\n",
       "<style scoped>\n",
       "    .dataframe tbody tr th:only-of-type {\n",
       "        vertical-align: middle;\n",
       "    }\n",
       "\n",
       "    .dataframe tbody tr th {\n",
       "        vertical-align: top;\n",
       "    }\n",
       "\n",
       "    .dataframe thead th {\n",
       "        text-align: right;\n",
       "    }\n",
       "</style>\n",
       "<table border=\"1\" class=\"dataframe\">\n",
       "  <thead>\n",
       "    <tr style=\"text-align: right;\">\n",
       "      <th></th>\n",
       "      <th>Cities/Countries</th>\n",
       "      <th>Lat</th>\n",
       "      <th>Lng</th>\n",
       "      <th>AvgScore</th>\n",
       "    </tr>\n",
       "  </thead>\n",
       "  <tbody>\n",
       "    <tr>\n",
       "      <th>0</th>\n",
       "      <td>Eritrea</td>\n",
       "      <td>15.179384</td>\n",
       "      <td>39.782334</td>\n",
       "      <td>22.646667</td>\n",
       "    </tr>\n",
       "    <tr>\n",
       "      <th>1</th>\n",
       "      <td>Central African Republic</td>\n",
       "      <td>6.611111</td>\n",
       "      <td>20.939444</td>\n",
       "      <td>33.730000</td>\n",
       "    </tr>\n",
       "    <tr>\n",
       "      <th>2</th>\n",
       "      <td>Afghanistan</td>\n",
       "      <td>33.939110</td>\n",
       "      <td>67.709953</td>\n",
       "      <td>38.443333</td>\n",
       "    </tr>\n",
       "    <tr>\n",
       "      <th>3</th>\n",
       "      <td>Chad</td>\n",
       "      <td>15.454166</td>\n",
       "      <td>18.732207</td>\n",
       "      <td>38.193333</td>\n",
       "    </tr>\n",
       "    <tr>\n",
       "      <th>4</th>\n",
       "      <td>Haiti</td>\n",
       "      <td>18.971187</td>\n",
       "      <td>-72.285215</td>\n",
       "      <td>38.383333</td>\n",
       "    </tr>\n",
       "  </tbody>\n",
       "</table>\n",
       "</div>"
      ],
      "text/plain": [
       "           Cities/Countries        Lat        Lng   AvgScore\n",
       "0                   Eritrea  15.179384  39.782334  22.646667\n",
       "1  Central African Republic   6.611111  20.939444  33.730000\n",
       "2               Afghanistan  33.939110  67.709953  38.443333\n",
       "3                      Chad  15.454166  18.732207  38.193333\n",
       "4                     Haiti  18.971187 -72.285215  38.383333"
      ]
     },
     "execution_count": 1008,
     "metadata": {},
     "output_type": "execute_result"
    }
   ],
   "source": [
    "merge_table = pd.merge(n_df,df6, on='Cities/Countries')\n",
    "merge_table.head()"
   ]
  },
  {
   "cell_type": "code",
   "execution_count": 1009,
   "metadata": {},
   "outputs": [
    {
     "data": {
      "application/vnd.jupyter.widget-view+json": {
       "model_id": "8755d0273e3646c9998bdb43a79795b2",
       "version_major": 2,
       "version_minor": 0
      },
      "text/plain": [
       "Figure(layout=FigureLayout(height='420px'))"
      ]
     },
     "metadata": {},
     "output_type": "display_data"
    }
   ],
   "source": [
    "locations = merge_table[[\"Lat\",\"Lng\"]]\n",
    "avgscore = merge_table[\"AvgScore\"].astype(float)\n",
    "fig = gmaps.figure()\n",
    "heat_layer = gmaps.heatmap_layer(locations, weights=avgscore, dissipating=False, max_intensity=10, point_radius=1)\n",
    "\n",
    "fig.add_layer(heat_layer)\n",
    "fig"
   ]
  },
  {
   "cell_type": "code",
   "execution_count": null,
   "metadata": {},
   "outputs": [],
   "source": []
  }
 ],
 "metadata": {
  "kernelspec": {
   "display_name": "Python 3",
   "language": "python",
   "name": "python3"
  },
  "language_info": {
   "codemirror_mode": {
    "name": "ipython",
    "version": 3
   },
   "file_extension": ".py",
   "mimetype": "text/x-python",
   "name": "python",
   "nbconvert_exporter": "python",
   "pygments_lexer": "ipython3",
   "version": "3.7.1"
  }
 },
 "nbformat": 4,
 "nbformat_minor": 2
}
